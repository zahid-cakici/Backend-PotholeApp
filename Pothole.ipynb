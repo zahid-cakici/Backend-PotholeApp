{
 "cells": [
  {
   "cell_type": "code",
   "execution_count": null,
   "id": "c43c3f45",
   "metadata": {},
   "outputs": [],
   "source": [
    "from LoadData.loadData import LoadData\n",
    "from visual.visual import Graph\n",
    "import matplotlib.pyplot as plt\n",
    "\n",
    "import pandas as pd\n",
    "import numpy as np\n",
    "\n",
    "ld = LoadData()\n",
    "df = ld.loadData('trip').dropna()\n",
    "\n",
    "vis = Graph()\n",
    "fig1,fig2 = vis.plot(df1)\n",
    "fig1.show()\n",
    "fig2.show()"
   ]
  },
  {
   "cell_type": "code",
   "execution_count": null,
   "id": "3328246b",
   "metadata": {
    "scrolled": true
   },
   "outputs": [],
   "source": [
    "df.describe()"
   ]
  },
  {
   "cell_type": "markdown",
   "id": "43d1bfb3",
   "metadata": {},
   "source": [
    "# Labels"
   ]
  },
  {
   "cell_type": "code",
   "execution_count": 54,
   "id": "656161fb",
   "metadata": {},
   "outputs": [],
   "source": [
    "from labelling.labels import Labels\n",
    "from labelling.verify_labels import VerifyLabels\n",
    "\n",
    "# label object\n",
    "lb_ob = Labels()\n",
    "vlb_ob = VerifyLabels()"
   ]
  },
  {
   "cell_type": "code",
   "execution_count": null,
   "id": "402c07ad",
   "metadata": {},
   "outputs": [],
   "source": [
    "col_name = 'Vertical'\n",
    "ev_vals_df = lb_ob.cusum_filter(df,np.sqrt(np.mean(df[col_name]**2))+1.5,col_name)\n",
    "print(np.sqrt(np.mean(df[col_name]**2)))\n",
    "print(ev_vals_df.shape)"
   ]
  },
  {
   "cell_type": "markdown",
   "id": "ec444bbc",
   "metadata": {},
   "source": [
    "# Verify Limits"
   ]
  },
  {
   "cell_type": "code",
   "execution_count": null,
   "id": "f30a5e9a",
   "metadata": {},
   "outputs": [],
   "source": [
    "vlb_ob.verify_samples(df,col_name, ev_vals_df['event'])"
   ]
  },
  {
   "cell_type": "code",
   "execution_count": null,
   "id": "d9eff6c5",
   "metadata": {},
   "outputs": [],
   "source": [
    "# Set Vertical Limits\n",
    "\n",
    "vlimits = lb_ob.set_vertical_limits(ev_vals_df)\n",
    "# print(vlimits.head())\n",
    "\n",
    "# Set horizontal limits\n",
    "\n",
    "hlimits = lb_ob.set_horizontal_limits(ev_vals_df)\n",
    "\n",
    "# Get threshold points\n",
    "\n",
    "# points above and below h_up and h_dn respectively\n",
    "thold_pts = lb_ob.get_thold_pts(ev_vals_df,hlimits)\n",
    "thold_pts"
   ]
  },
  {
   "cell_type": "code",
   "execution_count": null,
   "id": "dbfdb277",
   "metadata": {},
   "outputs": [],
   "source": [
    "vlb_ob.verify_horizontal_limits(df,col_name, ev_vals_df,ev_vals_df['event'],vlimits,hlimits)"
   ]
  },
  {
   "cell_type": "code",
   "execution_count": null,
   "id": "ee16e23c",
   "metadata": {},
   "outputs": [],
   "source": [
    "# set label according to dataset\n",
    "# 0 : plain\n",
    "# -1: pothole\n",
    "labelled_df = lb_ob.get_labels(ev_vals_df,thold_pts,-1)"
   ]
  },
  {
   "cell_type": "code",
   "execution_count": null,
   "id": "15ee8552",
   "metadata": {},
   "outputs": [],
   "source": [
    "labelled_df['label'].value_counts()"
   ]
  },
  {
   "cell_type": "code",
   "execution_count": null,
   "id": "4104d640",
   "metadata": {},
   "outputs": [],
   "source": [
    "# Verify labels\n",
    "vlb_ob.verify_labels(df,col_name,labelled_df,labelled_df['event'],vlimits,hlimits)"
   ]
  },
  {
   "cell_type": "code",
   "execution_count": null,
   "id": "1e54aa05",
   "metadata": {},
   "outputs": [],
   "source": [
    "ix = df['Time'].searchsorted(labelled_df['event'])\n",
    "df['label'] = np.NaN\n",
    "label_values = labelled_df['label'].values\n",
    "df.iloc[ix,-1] = label_values\n",
    "final_df = df.dropna()\n",
    "final_df.head(10)"
   ]
  },
  {
   "cell_type": "markdown",
   "id": "aa3744c5",
   "metadata": {},
   "source": [
    "# Machine Learning"
   ]
  },
  {
   "cell_type": "code",
   "execution_count": null,
   "id": "4690c578",
   "metadata": {},
   "outputs": [],
   "source": [
    "import joblib\n",
    "from sklearn.model_selection import train_test_split\n",
    "from sklearn.metrics import accuracy_score\n",
    "from model.model import Models\n",
    "\n",
    "# model object\n",
    "mdl_ob = Models()\n",
    "\n",
    "X = df.iloc[:,1:7]\n",
    "y = df.fillna(0).iloc[:,-1]\n",
    "print(y.head())\n",
    "\n",
    "trainX, testX, trainY, testY = train_test_split(X,y, test_size=0.2, shuffle=False)\n",
    "\n",
    "trainX.shape, trainY.shape\n",
    "\n",
    "clf = mdl_ob.randomForest(trainX,trainY,n_estimators=200)\n",
    "\n",
    "pred_y = clf.predict(testX)\n",
    "\n",
    "accuracy_score(testY,pred_y)"
   ]
  },
  {
   "cell_type": "markdown",
   "id": "dbc7c51b",
   "metadata": {},
   "source": [
    "# Saving markers as json"
   ]
  },
  {
   "cell_type": "code",
   "execution_count": null,
   "id": "7bba3f10",
   "metadata": {},
   "outputs": [],
   "source": [
    "newdf = final_df[[\"label\",\"Lat\",\"Long\"]].groupby([\"Lat\",\"Long\"]).mean()\n",
    "print(newdf.shape)\n",
    "newdf = newdf[newdf[\"label\"]<-0.8]\n",
    "print(newdf.shape)\n",
    "newdf = newdf.reset_index(level=[\"Lat\",\"Long\"]).rename(columns={\"Lat\":\"lat\",\"Long\":\"long\"})\n",
    "newdf.head(10)"
   ]
  },
  {
   "cell_type": "code",
   "execution_count": null,
   "id": "d84b3b53",
   "metadata": {},
   "outputs": [],
   "source": [
    "newdf[\"label\"] = 1\n",
    "newdf.head()"
   ]
  },
  {
   "cell_type": "code",
   "execution_count": null,
   "id": "a6ea5971",
   "metadata": {},
   "outputs": [],
   "source": [
    "js = newdf.to_json(orient=\"records\")\n",
    "gf = open(\"ss.txt\",\"w\")\n",
    "gf.write(js)\n",
    "gf.close()\n",
    "print(js)"
   ]
  }
 ],
 "metadata": {
  "kernelspec": {
   "display_name": "Python 3",
   "language": "python",
   "name": "python3"
  },
  "language_info": {
   "codemirror_mode": {
    "name": "ipython",
    "version": 3
   },
   "file_extension": ".py",
   "mimetype": "text/x-python",
   "name": "python",
   "nbconvert_exporter": "python",
   "pygments_lexer": "ipython3",
   "version": "3.8.8"
  }
 },
 "nbformat": 4,
 "nbformat_minor": 5
}
